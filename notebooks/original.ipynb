{
 "cells": [
  {
   "cell_type": "markdown",
   "metadata": {},
   "source": [
    "# Extract RGB from PAD Columns\n",
    "\n",
    "<font color='red'>Warning!</font> This notebook is a work in progress.\n",
    "\n",
    "This notebook describes the process of extracting RGB colors from a PAD. Please remember to <font color='green'>change the settings</font> in the [User Inputs](#User-Inputs) section.\n",
    "\n",
    "## Contents\n",
    "\n",
    "- [User Inputs](#User-Inputs)\n",
    "- [Imports](#Imports)\n",
    "- [Load Images](#Load-Images)\n",
    "- [Manual Box Placement](#Manual-Box-Placement)\n",
    "- [Sample](#Sample)\n",
    "- [Export to CSV](#Export-to-CSV)\n",
    "- [Plot Color Changes Over Time](#Plot-Color-Changes-Over-Time)\n",
    "\n",
    "## User Inputs\n",
    "\n",
    "Change these variables."
   ]
  },
  {
   "cell_type": "code",
   "execution_count": null,
   "metadata": {},
   "outputs": [],
   "source": [
    "INPUT_DIRECTORY = r\"C:\\Users\\your_user_name\\your_folder_containing_images\"\n",
    "OUTPUT_DIRECTORY = r\"C:\\Users\\your_user_name\\output_folder_that_doesnt_already_have_to_exist\"\n",
    "\n",
    "OUTPUT_PER_COLUMN_CSV = \"columns.csv\"\n",
    "OUTPUT_PER_FILE_CSV = \"summary.csv\"\n",
    "\n",
    "BOX_WIDTH = 50\n",
    "BOX_HEIGHT = 600\n",
    "NUM_BOXES = 12\n",
    "OFFSET_TOP = 1300\n",
    "OFFSET_LEFT = 540\n",
    "HORIZONTAL_SPACER = 109\n",
    "\n",
    "PADDING_USED_ON_SIDES_OF_PLOTS = 15"
   ]
  },
  {
   "cell_type": "markdown",
   "metadata": {},
   "source": [
    "## Imports"
   ]
  },
  {
   "cell_type": "code",
   "execution_count": null,
   "metadata": {},
   "outputs": [],
   "source": [
    "import cv2\n",
    "import matplotlib.pyplot as plt\n",
    "import numpy as np\n",
    "import os\n",
    "import pandas as pd\n",
    "import pathlib\n",
    "from datetime import datetime"
   ]
  },
  {
   "cell_type": "code",
   "execution_count": null,
   "metadata": {},
   "outputs": [],
   "source": [
    "%matplotlib inline"
   ]
  },
  {
   "cell_type": "markdown",
   "metadata": {},
   "source": [
    "## Load Images"
   ]
  },
  {
   "cell_type": "code",
   "execution_count": null,
   "metadata": {},
   "outputs": [],
   "source": [
    "output_dir = pathlib.Path(OUTPUT_DIRECTORY)\n",
    "if not output_dir.is_dir():\n",
    "    os.mkdir(str(output_dir))\n",
    "    print(\"Created: {}\".format(str(output_dir)))\n",
    "else:\n",
    "    print(\"Already exists: {}\".format(str(output_dir)))\n",
    "\n",
    "output_per_column_csv_path = pathlib.Path(os.path.join(os.getcwd(), OUTPUT_DIRECTORY, OUTPUT_PER_COLUMN_CSV))\n",
    "print(\"Column output CSV: {}\".format(str(output_per_column_csv_path)))\n",
    "output_per_file_csv_path = pathlib.Path(os.path.join(os.getcwd(), OUTPUT_DIRECTORY, OUTPUT_PER_FILE_CSV))\n",
    "print(\"Summary output CSV: {}\".format(str(output_per_file_csv_path)))"
   ]
  },
  {
   "cell_type": "markdown",
   "metadata": {},
   "source": [
    "Let this take care of the rest."
   ]
  },
  {
   "cell_type": "code",
   "execution_count": null,
   "metadata": {
    "scrolled": false
   },
   "outputs": [],
   "source": [
    "image_filenames = [pathlib.Path(os.path.join(os.getcwd(), INPUT_DIRECTORY, x)) for x in os.listdir(INPUT_DIRECTORY) if x.endswith('.jpg')]\n",
    "print(\"Found these files:\\n{}\".format(\"\\n\".join([str(x) for x in image_filenames])))"
   ]
  },
  {
   "cell_type": "markdown",
   "metadata": {},
   "source": [
    "## Manual Box Placement"
   ]
  },
  {
   "cell_type": "code",
   "execution_count": null,
   "metadata": {},
   "outputs": [],
   "source": [
    "def extract_rgb_from_image(\n",
    "    pathlib_filename,\n",
    "    verbose=False\n",
    "):\n",
    "    if verbose:\n",
    "        print(f\"Reading: {str(pathlib_filename)}\")\n",
    "    matrix_of_pixels = cv2.imread(str(pathlib_filename))\n",
    "    return matrix_of_pixels"
   ]
  },
  {
   "cell_type": "code",
   "execution_count": null,
   "metadata": {},
   "outputs": [],
   "source": [
    "def euclidean_distance_from_background(\n",
    "    background_pixel_matrix,\n",
    "    foreground_pixel_matrix\n",
    "):\n",
    "    pass"
   ]
  },
  {
   "cell_type": "code",
   "execution_count": null,
   "metadata": {},
   "outputs": [],
   "source": [
    "def sample_boxes(\n",
    "    pathlib_filename,\n",
    "    box_width=50,\n",
    "    box_height=500,\n",
    "    num_boxes=12,\n",
    "    offset_top=1250,\n",
    "    offset_left=560,\n",
    "    horizontal_spacer=109,\n",
    "    output_dir=\"output\",\n",
    "    background_pixel_matrix=None,\n",
    "    do_subtraction=False,\n",
    "    draw=True,\n",
    "    verbose=False\n",
    "):\n",
    "    column_data = []\n",
    "    if verbose:\n",
    "        print(\"Reading: {}\".format(str(pathlib_filename)))\n",
    "    image = cv2.imread(str(pathlib_filename))\n",
    "    if background_pixel_matrix is not None and do_subtraction:\n",
    "        # print(\" {} \".format(pathlib_filename.stem).center(79, '-'))\n",
    "        # print(\"Background pixel [0, 0]: {}\".format(background_pixel_matrix[0][0]))\n",
    "        # print(\"Foreground pixel [0, 0]: {}\".format(image[0][0]))\n",
    "        image = image - background_pixel_matrix\n",
    "        # print(\"Subtracted pixel [0, 0]: {}\".format(image[0][0]))\n",
    "    for x in range(num_boxes):\n",
    "        # Define rectangle to sample.\n",
    "        box_top_left_x = int(offset_left + horizontal_spacer * x + box_width * x)\n",
    "        box_top_left_y = int(offset_top)\n",
    "        box_bottom_right_x = int(box_top_left_x + box_width)\n",
    "        box_bottom_right_y = int(offset_top + box_height)\n",
    "        \n",
    "        # Sample colors.\n",
    "        pixels_in_box = image[box_top_left_y:box_bottom_right_y, box_top_left_x:box_bottom_right_x]\n",
    "            \n",
    "        average_color = pixels_in_box.mean(axis=0).mean(axis=0)\n",
    "\n",
    "        # Not used, but this will save the cropped pixels used for sampling.\n",
    "        # Would be cool to embed this into an output Excel.\n",
    "        # cv2.imwrite(\"test.jpg\", pixels_in_box)\n",
    "        \n",
    "        # Work out the date and time.\n",
    "        _, date_string, time_string = pathlib_filename.stem.split('_')\n",
    "        file_creation_date = datetime.strptime(date_string, \"%Y%m%d\")\n",
    "        file_creation_time = datetime.strptime(time_string, \"%H%M%S\")\n",
    "        file_creation_datetime = datetime.strptime(date_string + time_string, \"%Y%m%d%H%M%S\")\n",
    "        \n",
    "        # Additional color options.\n",
    "        average_inverted_blue = 255 - average_color[0]\n",
    "        average_inverted_green = 255 - average_color[1]\n",
    "        average_inverted_red = 255 - average_color[2]\n",
    "        grayscale_intensity = sum(average_color) / 3\n",
    "        grayscale_intensity = (average_color[0] + average_color[1] + average_color[2]) / 3\n",
    "        inverted_grayscale_intensity = 255 - grayscale_intensity\n",
    "        \n",
    "        # Save data from box.\n",
    "        datum = {\n",
    "            \"Filename\": str(pathlib_filename),\n",
    "            \"Column\": x,\n",
    "            \"TopLeftX\": box_top_left_x,\n",
    "            \"TopLeftY\": box_top_left_y,\n",
    "            \"BottomRightX\": box_bottom_right_x,\n",
    "            \"BottomRightY\": box_bottom_right_y,\n",
    "            \"AverageBlue\": average_color[0],\n",
    "            \"AverageGreen\": average_color[1],\n",
    "            \"AverageRed\": average_color[2],\n",
    "            \"AverageInvertedBlue\": average_inverted_blue,\n",
    "            \"AverageInvertedGreen\": average_inverted_green,\n",
    "            \"AverageInvertedRed\": average_inverted_red,\n",
    "            \"GrayscaleIntensity\": grayscale_intensity,\n",
    "            \"InvertedGrayscaleIntensity\": inverted_grayscale_intensity,\n",
    "            \"Date\": file_creation_date,\n",
    "            \"Time\": file_creation_time,\n",
    "            \"Datetime\": file_creation_datetime\n",
    "        }\n",
    "        column_data.append(datum)\n",
    "        \n",
    "        # If you want to draw.\n",
    "        if draw:\n",
    "            cv2.rectangle(\n",
    "                image,\n",
    "                (box_top_left_x, box_top_left_y),\n",
    "                (box_bottom_right_x, box_bottom_right_y),\n",
    "                (255, 0, 0),\n",
    "                21\n",
    "            )\n",
    "\n",
    "    blue_described = pd.Series([x[\"AverageBlue\"] for x in column_data]).describe()\n",
    "    green_described = pd.Series([x[\"AverageGreen\"] for x in column_data]).describe()\n",
    "    red_described = pd.Series([x[\"AverageRed\"] for x in column_data]).describe()\n",
    "    \n",
    "    inverted_blue_described = pd.Series([x[\"AverageInvertedBlue\"] for x in column_data]).describe()\n",
    "    inverted_green_described = pd.Series([x[\"AverageInvertedGreen\"] for x in column_data]).describe()\n",
    "    inverted_red_described = pd.Series([x[\"AverageInvertedRed\"] for x in column_data]).describe()\n",
    "    \n",
    "    grayscale_intensity_described = pd.Series([x[\"GrayscaleIntensity\"] for x in column_data]).describe()\n",
    "    inverted_grayscale_intensity_described = pd.Series([x[\"InvertedGrayscaleIntensity\"] for x in column_data]).describe()\n",
    "\n",
    "    # Average of columns.\n",
    "    summary_data = {\n",
    "        \"Filename\": str(pathlib_filename),\n",
    "        \n",
    "        \"BlueMean\": blue_described[\"mean\"],\n",
    "        \"BlueStd\": blue_described[\"std\"],\n",
    "        \"BlueMin\": blue_described[\"min\"],\n",
    "        \"Blue25%\": blue_described[\"25%\"],\n",
    "        \"Blue50%\": blue_described[\"50%\"],\n",
    "        \"Blue75%\": blue_described[\"75%\"],\n",
    "        \"BlueMax\": blue_described[\"max\"],\n",
    "        \n",
    "        \"GreenMean\": green_described[\"mean\"],\n",
    "        \"GreenStd\": green_described[\"std\"],\n",
    "        \"GreenMin\": green_described[\"min\"],\n",
    "        \"Green25%\": green_described[\"25%\"],\n",
    "        \"Green50%\": green_described[\"50%\"],\n",
    "        \"Green75%\": green_described[\"75%\"],\n",
    "        \"GreenMax\": green_described[\"max\"],\n",
    "        \n",
    "        \"RedMean\": red_described[\"mean\"],\n",
    "        \"RedStd\": red_described[\"std\"],\n",
    "        \"RedMin\": red_described[\"min\"],\n",
    "        \"Red25%\": red_described[\"25%\"],\n",
    "        \"Red50%\": red_described[\"50%\"],\n",
    "        \"Red75%\": red_described[\"75%\"],\n",
    "        \"RedMax\": red_described[\"max\"],\n",
    "        \n",
    "        \"InvertedBlueMean\": inverted_blue_described[\"mean\"],\n",
    "        \"InvertedBlueStd\": inverted_blue_described[\"std\"],\n",
    "        \"InvertedBlueMin\": inverted_blue_described[\"min\"],\n",
    "        \"InvertedBlue25%\": inverted_blue_described[\"25%\"],\n",
    "        \"InvertedBlue50%\": inverted_blue_described[\"50%\"],\n",
    "        \"InvertedBlue75%\": inverted_blue_described[\"75%\"],\n",
    "        \"InvertedBlueMax\": inverted_blue_described[\"max\"],\n",
    "        \n",
    "        \"InvertedGreenMean\": inverted_green_described[\"mean\"],\n",
    "        \"InvertedGreenStd\": inverted_green_described[\"std\"],\n",
    "        \"InvertedGreenMin\": inverted_green_described[\"min\"],\n",
    "        \"InvertedGreen25%\": inverted_green_described[\"25%\"],\n",
    "        \"InvertedGreen50%\": inverted_green_described[\"50%\"],\n",
    "        \"InvertedGreen75%\": inverted_green_described[\"75%\"],\n",
    "        \"InvertedGreenMax\": inverted_green_described[\"max\"],\n",
    "        \n",
    "        \"InvertedRedMean\": inverted_red_described[\"mean\"],\n",
    "        \"InvertedRedStd\": inverted_red_described[\"std\"],\n",
    "        \"InvertedRedMin\": inverted_red_described[\"min\"],\n",
    "        \"InvertedRed25%\": inverted_red_described[\"25%\"],\n",
    "        \"InvertedRed50%\": inverted_red_described[\"50%\"],\n",
    "        \"InvertedRed75%\": inverted_red_described[\"75%\"],\n",
    "        \"InvertedRedMax\": inverted_red_described[\"max\"],\n",
    "        \n",
    "        \"GrayscaleIntensityMean\": grayscale_intensity_described[\"mean\"],\n",
    "        \"GrayscaleIntensityStd\": grayscale_intensity_described[\"std\"],\n",
    "        \"GrayscaleIntensityMin\": grayscale_intensity_described[\"min\"],\n",
    "        \"GrayscaleIntensity25%\": grayscale_intensity_described[\"25%\"],\n",
    "        \"GrayscaleIntensity50%\": grayscale_intensity_described[\"50%\"],\n",
    "        \"GrayscaleIntensity75%\": grayscale_intensity_described[\"75%\"],\n",
    "        \"GrayscaleIntensityMax\": grayscale_intensity_described[\"max\"],\n",
    "        \n",
    "        \"InvertedGrayscaleIntensityMean\": inverted_grayscale_intensity_described[\"mean\"],\n",
    "        \"InvertedGrayscaleIntensityStd\": inverted_grayscale_intensity_described[\"std\"],\n",
    "        \"InvertedGrayscaleIntensityMin\": inverted_grayscale_intensity_described[\"min\"],\n",
    "        \"InvertedGrayscaleIntensity25%\": inverted_grayscale_intensity_described[\"25%\"],\n",
    "        \"InvertedGrayscaleIntensity50%\": inverted_grayscale_intensity_described[\"50%\"],\n",
    "        \"InvertedGrayscaleIntensity75%\": inverted_grayscale_intensity_described[\"75%\"],\n",
    "        \"InvertedGrayscaleIntensityMax\": inverted_grayscale_intensity_described[\"max\"],\n",
    "        \n",
    "        \"Date\": file_creation_date,\n",
    "        \"Time\": file_creation_time,\n",
    "        \"Datetime\": file_creation_datetime\n",
    "    }\n",
    "            \n",
    "    if draw:\n",
    "        plt.figure()\n",
    "        plt.title(pathlib_filename.stem)\n",
    "        plt.imshow(image)\n",
    "        output_filename = os.path.join(\n",
    "            os.getcwd(),\n",
    "            output_dir,\n",
    "            pathlib_filename.stem + \"_OUTPUT_20190317\" + pathlib_filename.suffix\n",
    "        )\n",
    "        cv2.imwrite(output_filename, image)\n",
    "        if verbose:\n",
    "            print(\"Wrote: {}\".format(output_filename))\n",
    "    return column_data, summary_data"
   ]
  },
  {
   "cell_type": "markdown",
   "metadata": {},
   "source": [
    "## Sample\n",
    "\n",
    "### Without Background Subtraction"
   ]
  },
  {
   "cell_type": "code",
   "execution_count": null,
   "metadata": {
    "scrolled": true
   },
   "outputs": [],
   "source": [
    "column_data = []\n",
    "summary_data = []\n",
    "for image_filename in image_filenames:\n",
    "    column_data_from_this_file, summary_data_from_this_file = \\\n",
    "        sample_boxes(\n",
    "            image_filename,\n",
    "            output_dir=OUTPUT_DIRECTORY,\n",
    "            box_width=BOX_WIDTH,\n",
    "            box_height=BOX_HEIGHT,\n",
    "            num_boxes=NUM_BOXES,\n",
    "            offset_left=OFFSET_LEFT,\n",
    "            offset_top=OFFSET_TOP,\n",
    "            horizontal_spacer=HORIZONTAL_SPACER,\n",
    "            verbose=False,\n",
    "            draw=True\n",
    "        )\n",
    "    column_data.extend(column_data_from_this_file)\n",
    "    summary_data.append(summary_data_from_this_file)"
   ]
  },
  {
   "cell_type": "markdown",
   "metadata": {},
   "source": [
    "### With Background Subtraction"
   ]
  },
  {
   "cell_type": "code",
   "execution_count": null,
   "metadata": {},
   "outputs": [],
   "source": [
    "# first_image = image_filenames[0] # Should I pop instead?\n",
    "# print(f\"Background image: {first_image}\")\n",
    "# _background_pixel_matrix = extract_rgb_from_image(first_image)"
   ]
  },
  {
   "cell_type": "code",
   "execution_count": null,
   "metadata": {
    "scrolled": true
   },
   "outputs": [],
   "source": [
    "# print(\"Other images:\\n{}\".format(\"\\n\".join([str(x) for x in image_filenames])))"
   ]
  },
  {
   "cell_type": "code",
   "execution_count": null,
   "metadata": {
    "scrolled": false
   },
   "outputs": [],
   "source": [
    "# column_data = []\n",
    "# summary_data = []\n",
    "# for image_filename in image_filenames:\n",
    "#     column_data_from_this_file, summary_data_from_this_file = \\\n",
    "#         sample_boxes(\n",
    "#             image_filename,\n",
    "#             output_dir=OUTPUT_DIRECTORY,\n",
    "#             box_width=BOX_WIDTH,\n",
    "#             box_height=BOX_HEIGHT,\n",
    "#             num_boxes=NUM_BOXES,\n",
    "#             offset_left=OFFSET_LEFT,\n",
    "#             offset_top=OFFSET_TOP,\n",
    "#             horizontal_spacer=HORIZONTAL_SPACER,\n",
    "#             background_pixel_matrix=_background_pixel_matrix,\n",
    "#             do_subtraction=True,\n",
    "#             verbose=False,\n",
    "#             draw=True\n",
    "#         )\n",
    "#     column_data.extend(column_data_from_this_file)\n",
    "#     summary_data.append(summary_data_from_this_file)"
   ]
  },
  {
   "cell_type": "markdown",
   "metadata": {},
   "source": [
    "## Export to CSV"
   ]
  },
  {
   "cell_type": "code",
   "execution_count": null,
   "metadata": {},
   "outputs": [],
   "source": [
    "column_df = pd.DataFrame(column_data)\n",
    "column_df[\"TimeDelta\"] = column_df[\"Time\"] - column_df[\"Time\"].min()\n",
    "column_df[\"TimeDelta\"] = column_df[\"TimeDelta\"].astype('timedelta64[s]')\n",
    "column_df = column_df[[\n",
    "    \"Filename\",\n",
    "    \"Column\",\n",
    "    \"TopLeftX\",\n",
    "    \"TopLeftY\",\n",
    "    \"BottomRightX\",\n",
    "    \"BottomRightY\",\n",
    "    \"AverageBlue\",\n",
    "    \"AverageGreen\",\n",
    "    \"AverageRed\",\n",
    "    \"AverageInvertedBlue\",\n",
    "    \"AverageInvertedGreen\",\n",
    "    \"AverageInvertedRed\",\n",
    "    \"GrayscaleIntensity\",\n",
    "    \"InvertedGrayscaleIntensity\",\n",
    "    \"Date\",\n",
    "    \"Time\",\n",
    "    \"Datetime\",\n",
    "    \"TimeDelta\" \n",
    "]]"
   ]
  },
  {
   "cell_type": "markdown",
   "metadata": {},
   "source": [
    "<font color='red'>Warning!</font> The cell below was used to select every other column. Comment or uncomment as needed!"
   ]
  },
  {
   "cell_type": "code",
   "execution_count": null,
   "metadata": {},
   "outputs": [],
   "source": [
    "# column_df = column_df.loc[column_df[\"Column\"].isin([0, 2, 4, 6, 8, 10])]"
   ]
  },
  {
   "cell_type": "code",
   "execution_count": null,
   "metadata": {},
   "outputs": [],
   "source": [
    "column_df.to_csv(output_per_column_csv_path)"
   ]
  },
  {
   "cell_type": "code",
   "execution_count": null,
   "metadata": {},
   "outputs": [],
   "source": [
    "summary_df = pd.DataFrame(summary_data)\n",
    "summary_df[\"TimeDelta\"] = summary_df[\"Time\"] - summary_df[\"Time\"].min()\n",
    "summary_df[\"TimeDelta\"] = summary_df[\"TimeDelta\"].astype('timedelta64[s]')\n",
    "summary_df = summary_df[[\n",
    "    \"Filename\",\n",
    "    \n",
    "    \"BlueMean\",\n",
    "    \"BlueStd\",\n",
    "    \"BlueMin\",\n",
    "    \"Blue25%\",\n",
    "    \"Blue50%\",\n",
    "    \"Blue75%\",\n",
    "    \"BlueMax\",\n",
    "    \"GreenMean\",\n",
    "    \"GreenStd\",\n",
    "    \"GreenMin\",\n",
    "    \"Green25%\",\n",
    "    \"Green50%\",\n",
    "    \"Green75%\",\n",
    "    \"GreenMax\",\n",
    "    \"RedMean\",\n",
    "    \"RedStd\",\n",
    "    \"RedMin\",\n",
    "    \"Red25%\",\n",
    "    \"Red50%\",\n",
    "    \"Red75%\",\n",
    "    \"RedMax\",\n",
    "    \n",
    "    \"InvertedBlueMean\",\n",
    "    \"InvertedBlueStd\",\n",
    "    \"InvertedBlueMin\",\n",
    "    \"InvertedBlue25%\",\n",
    "    \"InvertedBlue50%\",\n",
    "    \"InvertedBlue75%\",\n",
    "    \"InvertedBlueMax\",\n",
    "    \n",
    "    \"InvertedGreenMean\",\n",
    "    \"InvertedGreenStd\",\n",
    "    \"InvertedGreenMin\",\n",
    "    \"InvertedGreen25%\",\n",
    "    \"InvertedGreen50%\",\n",
    "    \"InvertedGreen75%\",\n",
    "    \"InvertedGreenMax\",\n",
    "    \n",
    "    \"InvertedRedMean\",\n",
    "    \"InvertedRedStd\",\n",
    "    \"InvertedRedMin\",\n",
    "    \"InvertedRed25%\",\n",
    "    \"InvertedRed50%\",\n",
    "    \"InvertedRed75%\",\n",
    "    \"InvertedRedMax\",\n",
    "        \n",
    "    \"GrayscaleIntensityMean\",\n",
    "    \"GrayscaleIntensityStd\",\n",
    "    \"GrayscaleIntensityMin\",\n",
    "    \"GrayscaleIntensity25%\",\n",
    "    \"GrayscaleIntensity50%\",\n",
    "    \"GrayscaleIntensity75%\",\n",
    "    \"GrayscaleIntensityMax\",\n",
    "    \n",
    "    \"InvertedGrayscaleIntensityMean\",\n",
    "    \"InvertedGrayscaleIntensityStd\",\n",
    "    \"InvertedGrayscaleIntensityMin\",\n",
    "    \"InvertedGrayscaleIntensity25%\",\n",
    "    \"InvertedGrayscaleIntensity50%\",\n",
    "    \"InvertedGrayscaleIntensity75%\",\n",
    "    \"InvertedGrayscaleIntensityMax\",\n",
    "    \n",
    "    \"Date\",\n",
    "    \"Time\",\n",
    "    \"Datetime\",\n",
    "    \"TimeDelta\"\n",
    "]]\n",
    "summary_df.to_csv(output_per_file_csv_path)"
   ]
  },
  {
   "cell_type": "markdown",
   "metadata": {},
   "source": [
    "## Plot Color Changes Over Time"
   ]
  },
  {
   "cell_type": "code",
   "execution_count": null,
   "metadata": {},
   "outputs": [],
   "source": [
    "summary_df.head()"
   ]
  },
  {
   "cell_type": "code",
   "execution_count": null,
   "metadata": {},
   "outputs": [],
   "source": [
    "fig, ax = plt.subplots();\n",
    "summary_df.plot(ax=ax, x=\"TimeDelta\", y=\"BlueMean\", yerr=\"BlueStd\", capsize=3, color=\"blue\");\n",
    "summary_df.plot(ax=ax, x=\"TimeDelta\", y=\"RedMean\", yerr=\"RedStd\", capsize=3, color=\"red\");\n",
    "summary_df.plot(ax=ax, x=\"TimeDelta\", y=\"GreenMean\", yerr=\"GreenStd\", capsize=3, color=\"green\");\n",
    "ax.set_title(\"Average Color Change Over Time\");\n",
    "ax.set_ylabel(\"Intensity (0 - 255)\");\n",
    "ax.set_xlabel(\"Time (s)\");\n",
    "ax.set_xlim(\n",
    "    summary_df.iloc[0][\"TimeDelta\"] - PADDING_USED_ON_SIDES_OF_PLOTS,\n",
    "    summary_df.iloc[-1][\"TimeDelta\"] + PADDING_USED_ON_SIDES_OF_PLOTS\n",
    ");\n",
    "ax.legend([\"Blue Mean\", \"Red Mean\", \"Green Mean\"]);"
   ]
  },
  {
   "cell_type": "code",
   "execution_count": null,
   "metadata": {},
   "outputs": [],
   "source": [
    "filename = output_dir / \"average_color_intensity_over_time.png\"\n",
    "fig.savefig(str(filename))"
   ]
  },
  {
   "cell_type": "code",
   "execution_count": null,
   "metadata": {},
   "outputs": [],
   "source": [
    "fig, ax = plt.subplots();\n",
    "summary_df.plot(ax=ax, x=\"TimeDelta\", y=\"InvertedBlueMean\", yerr=\"InvertedBlueStd\", capsize=3, color=\"blue\");\n",
    "summary_df.plot(ax=ax, x=\"TimeDelta\", y=\"InvertedRedMean\", yerr=\"InvertedRedStd\", capsize=3, color=\"red\");\n",
    "summary_df.plot(ax=ax, x=\"TimeDelta\", y=\"InvertedGreenMean\", yerr=\"InvertedGreenStd\", capsize=3, color=\"green\");\n",
    "ax.set_title(\"Average Inverted Color Change Over Time\");\n",
    "ax.set_ylabel(\"Intensity (0 - 255)\");\n",
    "ax.set_xlabel(\"Time (s)\");\n",
    "ax.set_xlim(\n",
    "    summary_df.iloc[0][\"TimeDelta\"] - PADDING_USED_ON_SIDES_OF_PLOTS,\n",
    "    summary_df.iloc[-1][\"TimeDelta\"] + PADDING_USED_ON_SIDES_OF_PLOTS\n",
    ");\n",
    "ax.legend([\"Inverted Blue Mean\", \"Inverted Red Mean\", \"Inverted Green Mean\"]);"
   ]
  },
  {
   "cell_type": "code",
   "execution_count": null,
   "metadata": {},
   "outputs": [],
   "source": [
    "filename = output_dir / \"average_inverted_color_intensity_over_time.png\"\n",
    "fig.savefig(str(filename))"
   ]
  },
  {
   "cell_type": "code",
   "execution_count": null,
   "metadata": {
    "scrolled": true
   },
   "outputs": [],
   "source": [
    "fig, ax = plt.subplots();\n",
    "summary_df.plot(\n",
    "    ax=ax,\n",
    "    x=\"TimeDelta\",\n",
    "    y=\"GrayscaleIntensityMean\",\n",
    "    yerr=\"GrayscaleIntensityStd\",\n",
    "    capsize=3,\n",
    "    color=\"gray\",\n",
    "    legend=False\n",
    ");\n",
    "ax.set_title(\"Average Grayscale Intensity Over Time\");\n",
    "ax.set_ylabel(\"Intensity (0 - 255)\");\n",
    "ax.set_xlabel(\"Time (s)\");\n",
    "ax.set_xlim(\n",
    "    summary_df.iloc[0][\"TimeDelta\"] - PADDING_USED_ON_SIDES_OF_PLOTS,\n",
    "    summary_df.iloc[-1][\"TimeDelta\"] + PADDING_USED_ON_SIDES_OF_PLOTS\n",
    ");"
   ]
  },
  {
   "cell_type": "code",
   "execution_count": null,
   "metadata": {},
   "outputs": [],
   "source": [
    "filename = output_dir / \"average_grayscale_intensity_over_time.png\"\n",
    "fig.savefig(str(filename))"
   ]
  },
  {
   "cell_type": "code",
   "execution_count": null,
   "metadata": {},
   "outputs": [],
   "source": [
    "fig, ax = plt.subplots();\n",
    "summary_df.plot(\n",
    "    ax=ax,\n",
    "    x=\"TimeDelta\",\n",
    "    y=\"InvertedGrayscaleIntensityMean\",\n",
    "    yerr=\"InvertedGrayscaleIntensityStd\",\n",
    "    capsize=3,\n",
    "    color=\"gray\",\n",
    "    legend=False\n",
    ");\n",
    "ax.set_title(\"Average Inverted Grayscale Intensity Over Time\");\n",
    "ax.set_ylabel(\"Intensity (0 - 255)\");\n",
    "ax.set_xlabel(\"Time (s)\");\n",
    "ax.set_xlim(\n",
    "    summary_df.iloc[0][\"TimeDelta\"] - PADDING_USED_ON_SIDES_OF_PLOTS,\n",
    "    summary_df.iloc[-1][\"TimeDelta\"] + PADDING_USED_ON_SIDES_OF_PLOTS\n",
    ");"
   ]
  },
  {
   "cell_type": "code",
   "execution_count": null,
   "metadata": {},
   "outputs": [],
   "source": [
    "filename = output_dir / \"average_inverted_grayscale_intensity_over_time.png\"\n",
    "fig.savefig(str(filename))"
   ]
  }
 ],
 "metadata": {
  "kernelspec": {
   "display_name": "Python 3",
   "language": "python",
   "name": "python3"
  },
  "language_info": {
   "codemirror_mode": {
    "name": "ipython",
    "version": 3
   },
   "file_extension": ".py",
   "mimetype": "text/x-python",
   "name": "python",
   "nbconvert_exporter": "python",
   "pygments_lexer": "ipython3",
   "version": "3.7.3"
  }
 },
 "nbformat": 4,
 "nbformat_minor": 2
}
