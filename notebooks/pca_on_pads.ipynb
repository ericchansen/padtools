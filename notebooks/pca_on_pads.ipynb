{
 "cells": [
  {
   "cell_type": "code",
   "execution_count": null,
   "metadata": {},
   "outputs": [],
   "source": [
    "import json\n",
    "import matplotlib.pyplot as plt\n",
    "import numpy as np\n",
    "import pandas as pd\n",
    "import sys\n",
    "import matplotlib.patheffects as PathEffects\n",
    "from pathlib import Path\n",
    "from sklearn import svm\n",
    "from sklearn.linear_model import LogisticRegression\n",
    "from sklearn.decomposition import PCA\n",
    "from sklearn.preprocessing import StandardScaler"
   ]
  },
  {
   "cell_type": "code",
   "execution_count": null,
   "metadata": {},
   "outputs": [],
   "source": [
    "try:\n",
    "    import pad\n",
    "except ModuleNotFoundError:\n",
    "    sys.path.insert(0, \"../src\")\n",
    "    import pad"
   ]
  },
  {
   "cell_type": "code",
   "execution_count": null,
   "metadata": {},
   "outputs": [],
   "source": [
    "def check_if_dir_object_in(dir_object, directories):\n",
    "    this = [Path(x) for x in directories]\n",
    "    return Path(dir_object.path_to_dir) in this"
   ]
  },
  {
   "cell_type": "code",
   "execution_count": null,
   "metadata": {},
   "outputs": [],
   "source": [
    "OUTPUT_DIRECTORY = \"C:\\\\wherever\\\\you\\\\want\"\n",
    "pad.create_output_dir_if_needed(OUTPUT_DIRECTORY)"
   ]
  },
  {
   "cell_type": "code",
   "execution_count": null,
   "metadata": {},
   "outputs": [],
   "source": [
    "POSITIVE_DIRECTORIES = [\n",
    "    \"C:\\\\Users\\\\pete.buttigieg\\\\old_lactose_pad_images\",\n",
    "    \"C:\\\\Users\\\\pete.buttigieg\\\\fresh_lactose_pad_images\",\n",
    "    \"C:\\\\Users\\\\pete.buttigieg\\\\10_percent_lactose_pad_images\",\n",
    "    \"C:\\\\Users\\\\pete.buttigieg\\\\20_percent_lactose_pad_images\",\n",
    "    \"C:\\\\Users\\\\pete.buttigieg\\\\50_percent_lactose_pad_images\",\n",
    "    \"C:\\\\Users\\\\pete.buttigieg\\\\100_percent_lactose_pad_images\"\n",
    "]\n",
    "NEGATIVE_DIRECTORIES = [\n",
    "    \"C:\\\\Users\\\\pete.buttigieg\\\\old_starch_pad_images\",\n",
    "    \"C:\\\\Users\\\\pete.buttigieg\\\\fresh_starch_pad_images\",\n",
    "    \"C:\\\\Users\\\\pete.buttigieg\\\\0_percent_lactose_pad_images\"\n",
    "]\n",
    "ALL_DIRECTORIES = POSITIVE_DIRECTORIES + NEGATIVE_DIRECTORIES"
   ]
  },
  {
   "cell_type": "markdown",
   "metadata": {},
   "source": [
    "Here's an example settings file.\n",
    "\n",
    "```\n",
    "[\n",
    "    {\n",
    "        \"directory\": \"C:\\\\Users\\\\pete.buttigieg\\\\10_percent_lactose_pad_images\",\n",
    "        \"title\": \"0% Lactose\",\n",
    "        \"box_settings\": {\n",
    "            \"box_width\": 40,\n",
    "            \"box_height\": 150,\n",
    "            \"num_boxes\": 12,\n",
    "            \"offset_top\": 1450,\n",
    "            \"offset_left\": 505,\n",
    "            \"horizontal_spacer\": 115\n",
    "        },\n",
    "        \"lanes_to_sample\": [\n",
    "            \"A\",\n",
    "            \"B\",\n",
    "            \"C\",\n",
    "            \"D\",\n",
    "            \"E\",\n",
    "            \"F\",\n",
    "            \"G\",\n",
    "            \"H\",\n",
    "            \"I\",\n",
    "            \"J\",\n",
    "            \"K\",\n",
    "            \"L\"\n",
    "        ]\n",
    "    },\n",
    "    {\n",
    "        \"directory\": \"C:\\\\Users\\\\pete.buttigieg\\\\20_percent_lactose_pad_images\",\n",
    "        \"title\": \"20% Lactose\",\n",
    "        \"box_settings\": {\n",
    "            \"box_width\": 40,\n",
    "            \"box_height\": 150,\n",
    "            \"num_boxes\": 12,\n",
    "            \"offset_top\": 1520,\n",
    "            \"offset_left\": 550,\n",
    "            \"horizontal_spacer\": 120\n",
    "        },\n",
    "        \"lanes_to_sample\": [\n",
    "            \"A\",\n",
    "            \"B\",\n",
    "            \"C\",\n",
    "            \"D\",\n",
    "            \"E\",\n",
    "            \"F\",\n",
    "            \"G\",\n",
    "            \"H\",\n",
    "            \"I\",\n",
    "            \"J\",\n",
    "            \"K\",\n",
    "            \"L\"\n",
    "        ]\n",
    "    }\n",
    "]\n",
    "```"
   ]
  },
  {
   "cell_type": "code",
   "execution_count": null,
   "metadata": {},
   "outputs": [],
   "source": [
    "with open(\"C:\\\\Users\\\\pete.buttigieg\\\\settings.json\", \"r\") as f:\n",
    "    settings = json.load(f)"
   ]
  },
  {
   "cell_type": "markdown",
   "metadata": {},
   "source": [
    "You can utilize multiple settings files. I recommend one per directory."
   ]
  },
  {
   "cell_type": "code",
   "execution_count": null,
   "metadata": {},
   "outputs": [],
   "source": [
    "with open(\"C:\\\\Users\\\\pete.buttigieg\\\\old_starch_pad_images\\\\settings.json\", \"r\") as f:\n",
    "    more_settings = json.load(f)"
   ]
  },
  {
   "cell_type": "code",
   "execution_count": null,
   "metadata": {},
   "outputs": [],
   "source": [
    "settings.extend(more_settings)"
   ]
  },
  {
   "cell_type": "markdown",
   "metadata": {},
   "source": [
    "Run only once."
   ]
  },
  {
   "cell_type": "code",
   "execution_count": null,
   "metadata": {},
   "outputs": [],
   "source": [
    "image_dir_objects = pad.load_multiple_directories(settings)"
   ]
  },
  {
   "cell_type": "markdown",
   "metadata": {},
   "source": [
    "Only keep directories we labeled as true positives or true negatives."
   ]
  },
  {
   "cell_type": "code",
   "execution_count": null,
   "metadata": {},
   "outputs": [],
   "source": [
    "image_dir_objects = [x for x in image_dir_objects if Path(x.path_to_dir) in [Path(z) for z in ALL_DIRECTORIES]]\n",
    "print(\"retained {} directories\".format(len(image_dir_objects)))"
   ]
  },
  {
   "cell_type": "markdown",
   "metadata": {},
   "source": [
    "Only keep the most recent/most developed/latest timestamp image from each directory. This assumes that the filename ends with a timestamp. Most cell phones write filenames in this fashion."
   ]
  },
  {
   "cell_type": "code",
   "execution_count": null,
   "metadata": {},
   "outputs": [],
   "source": [
    "for dir_object in image_dir_objects:\n",
    "    dir_object._image_filenames = [dir_object.image_filenames[-1]]"
   ]
  },
  {
   "cell_type": "code",
   "execution_count": null,
   "metadata": {},
   "outputs": [],
   "source": [
    "for dir_object in image_dir_objects:\n",
    "    dir_object.column_data, dir_object.summary_data = pad.sample_directory_and_create_output_data(\n",
    "        image_filenames=dir_object.image_filenames,\n",
    "        output_directory=OUTPUT_DIRECTORY,\n",
    "        box_settings=dir_object.box_settings,\n",
    "        lanes_to_sample=dir_object.lanes_to_sample,\n",
    "        verbose=False,\n",
    "        draw=False\n",
    "    )\n",
    "    dir_object.column_data_frame = pad.create_column_data_frame(dir_object.column_data)"
   ]
  },
  {
   "cell_type": "markdown",
   "metadata": {},
   "source": [
    "Create dataframe for analysis."
   ]
  },
  {
   "cell_type": "code",
   "execution_count": null,
   "metadata": {},
   "outputs": [],
   "source": [
    "df = pd.concat([x.column_data_frame for x in image_dir_objects])"
   ]
  },
  {
   "cell_type": "markdown",
   "metadata": {},
   "source": [
    "Save the data in case you don't want to process all those images again."
   ]
  },
  {
   "cell_type": "code",
   "execution_count": null,
   "metadata": {},
   "outputs": [],
   "source": [
    "df.to_csv(Path(OUTPUT_DIRECTORY, \"data.csv\"), index=False)"
   ]
  },
  {
   "cell_type": "markdown",
   "metadata": {},
   "source": [
    "You can reload the data from here."
   ]
  },
  {
   "cell_type": "code",
   "execution_count": null,
   "metadata": {
    "scrolled": true
   },
   "outputs": [],
   "source": [
    "df_with_label = pd.read_csv(Path(OUTPUT_DIRECTORY, \"data.csv\"))"
   ]
  },
  {
   "cell_type": "code",
   "execution_count": null,
   "metadata": {},
   "outputs": [],
   "source": [
    "df_with_label"
   ]
  },
  {
   "cell_type": "code",
   "execution_count": null,
   "metadata": {},
   "outputs": [],
   "source": [
    "features = [\"AverageBlue\", \"AverageGreen\", \"AverageRed\"]\n",
    "target = [\"Target\"]\n",
    "x = df_with_label.loc[:, features].values\n",
    "y = df_with_label.loc[:, target].values"
   ]
  },
  {
   "cell_type": "markdown",
   "metadata": {},
   "source": [
    "Standardize data."
   ]
  },
  {
   "cell_type": "code",
   "execution_count": null,
   "metadata": {},
   "outputs": [],
   "source": [
    "x = StandardScaler().fit_transform(x)"
   ]
  },
  {
   "cell_type": "code",
   "execution_count": null,
   "metadata": {},
   "outputs": [],
   "source": [
    "pca = PCA(n_components=2)\n",
    "principal_components = pca.fit_transform(x)\n",
    "pca_df = pd.DataFrame(\n",
    "    data=principal_components,\n",
    "    columns=[\"Principal Component 1\", \"Principal Component 2\"]\n",
    ")\n",
    "pca_df = pd.concat([pca_df, df_with_label[\"Target\"], df_with_label[\"Label\"]], axis=1)"
   ]
  },
  {
   "cell_type": "code",
   "execution_count": null,
   "metadata": {},
   "outputs": [],
   "source": [
    "fig = plt.figure()\n",
    "ax = fig.add_subplot(1, 1, 1) \n",
    "ax.set_xlabel(\"Principal Component 1\")\n",
    "ax.set_ylabel(\"Principal Component 2\")\n",
    "ax.set_title(\"\")\n",
    "targets = [\"Positive\", \"Negative\"]\n",
    "colors = ['g', 'r']\n",
    "for target, color in zip(targets, colors):\n",
    "    indicies_to_keep = pca_df[\"Target\"] == target\n",
    "    ax.scatter(\n",
    "        pca_df.loc[indicies_to_keep, \"Principal Component 1\"],\n",
    "        pca_df.loc[indicies_to_keep, \"Principal Component 2\"],\n",
    "        c = color,\n",
    "        s = 50\n",
    "    )\n",
    "ax.legend(targets)\n",
    "# ax.grid()\n",
    "plt.tight_layout()\n",
    "# fig.savefig(Path(OUTPUT_DIRECTORY, \"example.png\"))"
   ]
  },
  {
   "cell_type": "code",
   "execution_count": null,
   "metadata": {},
   "outputs": [],
   "source": [
    "sample_vector = pca_df[[\"Principal Component 1\", \"Principal Component 2\"]].to_numpy()\n",
    "label_vector = pca_df[\"Target\"].to_numpy()"
   ]
  },
  {
   "cell_type": "code",
   "execution_count": null,
   "metadata": {},
   "outputs": [],
   "source": [
    "label_vector = [0 if x == \"Negative\" else 1 for x in label_vector]"
   ]
  },
  {
   "cell_type": "code",
   "execution_count": null,
   "metadata": {
    "scrolled": false
   },
   "outputs": [],
   "source": [
    "plt.rcParams[\"font.size\"] = 10\n",
    "\n",
    "fig = plt.figure()\n",
    "ax = fig.add_subplot(1, 1, 1) \n",
    "ax.set_xlabel(\"Principal Component 1\")\n",
    "ax.set_ylabel(\"Principal Component 2\")\n",
    "ax.set_title(\"\")\n",
    "\n",
    "labels = df_with_label.Label.unique()\n",
    "\n",
    "legend_order = [\n",
    "    \"100% Lactose - Old PAD\",\n",
    "    \"100% Lactose\",\n",
    "    \"50% Lactose\",\n",
    "    \"20% Lactose\",\n",
    "    \"10% Lactose\",\n",
    "    \"5% Lactose\",\n",
    "    \"0% Lactose\",\n",
    "    \"0% Lactose - Old PAD\"\n",
    "]\n",
    "\n",
    "lines = []\n",
    "\n",
    "for label in legend_order:\n",
    "    indicies_to_keep = pca_df[\"Label\"] == label\n",
    "    line = ax.scatter(\n",
    "        pca_df.loc[indicies_to_keep, 'Principal Component 1'],\n",
    "        pca_df.loc[indicies_to_keep, 'Principal Component 2'],\n",
    "        # c = color,\n",
    "        s = 50,\n",
    "        label=label\n",
    "    )\n",
    "    lines.append(line)\n",
    "\n",
    "x_limits = ax.get_xlim()\n",
    "y_limits = ax.get_ylim()\n",
    "x_values_for_line = np.linspace(x_limits[0], x_limits[1], 30)\n",
    "lr = LogisticRegression()\n",
    "lr.fit(sample_vector, label_vector)\n",
    "params = lr.coef_[0]\n",
    "intercept = lr.intercept_\n",
    "y_values_for_line = np.dot((-1. / params[1]), (np.dot(params[0], x_values_for_line) + intercept))\n",
    "another_line = ax.plot(x_values_for_line, y_values_for_line, label=\"Decision Boundary\")\n",
    "ax.set_ylim(y_limits)\n",
    "\n",
    "width_in_cm = 11\n",
    "width_in_in = width_in_cm * 0.3937\n",
    "height_in_cm = 10\n",
    "height_in_in = height_in_cm * 0.3937\n",
    "fig.set_size_inches(width_in_in, height_in_in)\n",
    "\n",
    "ax.legend(\n",
    "    # bbox_to_anchor=(-0.13, -0.2),\n",
    "    # loc=\"upper left\",\n",
    "    # bbox_to_anchor=(1, 1),\n",
    "    # bbox_to_anchor=(0.0, 0.0),\n",
    "    bbox_to_anchor=(0.0, -0.14),\n",
    "    frameon=False,\n",
    "    ncol=2,\n",
    "    # borderaxespad=0,\n",
    "    # mode=\"expand\",\n",
    "    bbox_transform=fig.transFigure,\n",
    "    loc=\"upper center\"\n",
    ")\n",
    "\n",
    "plt.tight_layout()"
   ]
  },
  {
   "cell_type": "code",
   "execution_count": null,
   "metadata": {},
   "outputs": [],
   "source": [
    "fig.savefig(\n",
    "    str(Path(OUTPUT_DIRECTORY, \"beautiful_publication_quality_figure.tiff\")),\n",
    "    dpi=600,\n",
    "    format=\"tiff\",\n",
    "    pil_kwargs={\"compression\": \"tiff_lzw\"},\n",
    "    bbox_inches=\"tight\"\n",
    ")"
   ]
  },
  {
   "cell_type": "code",
   "execution_count": null,
   "metadata": {},
   "outputs": [],
   "source": [
    "feature_labels = [\"Average Blue\", \"Average Green\", \"Average Red\"]"
   ]
  },
  {
   "cell_type": "code",
   "execution_count": null,
   "metadata": {},
   "outputs": [],
   "source": [
    "fig = plt.figure()\n",
    "ax = fig.add_subplot(1, 1, 1)\n",
    "im = ax.imshow(pca.components_)\n",
    "\n",
    "plt.yticks(\n",
    "    [0, 1],\n",
    "    [\"Principal Component 1\", \"Principal Component 2\"]\n",
    ")\n",
    "plt.xticks(\n",
    "    [0, 1, 2],\n",
    "    feature_labels\n",
    ")\n",
    "\n",
    "x_text_min = -0.26\n",
    "x_text_max = 1.79\n",
    "x_text_num = 3\n",
    "x_text_increment = (x_text_max - x_text_min) / (x_text_num - 1)\n",
    "x_text_locations = [x_text_min + x_text_increment * z for z in range(x_text_num)]\n",
    "print(\"x_test_locations: {}\".format(x_text_locations))\n",
    "y_text_min = 0.025\n",
    "y_text_max = 1.07\n",
    "y_text_num = 2\n",
    "y_text_increment = (y_text_max - y_text_min) / (y_text_num - 1)\n",
    "y_text_locations = [y_text_min + y_text_increment * z for z in range(y_text_num)]\n",
    "print(\"y_test_locations: {}\".format(y_text_locations))\n",
    "\n",
    "for y, y_loc in zip(pca.components_, y_text_locations):\n",
    "    for x, x_loc in zip(y, x_text_locations):\n",
    "        text = ax.text(x_loc, y_loc, \"{:.4f}\".format(x))\n",
    "        text.set_path_effects([PathEffects.withStroke(linewidth=3.5, foreground='w')])\n",
    "\n",
    "plt.colorbar(im)\n",
    "plt.tight_layout()\n",
    "plt.show()"
   ]
  },
  {
   "cell_type": "code",
   "execution_count": null,
   "metadata": {},
   "outputs": [],
   "source": [
    "fig.savefig(Path(OUTPUT_DIRECTORY, \"explain_pca.png\"), dpi=300)\n",
    "fig.savefig(Path(OUTPUT_DIRECTORY, \"expalin_pca.eps\"), format='eps')\n",
    "fig.savefig(Path(OUTPUT_DIRECTORY, \"expalin_pca.tiff\"), format='tiff', dpi=1200)"
   ]
  }
 ],
 "metadata": {
  "file_extension": ".py",
  "kernelspec": {
   "display_name": "Python 3",
   "language": "python",
   "name": "python3"
  },
  "language_info": {
   "codemirror_mode": {
    "name": "ipython",
    "version": 3
   },
   "file_extension": ".py",
   "mimetype": "text/x-python",
   "name": "python",
   "nbconvert_exporter": "python",
   "pygments_lexer": "ipython3",
   "version": "3.7.6"
  },
  "mimetype": "text/x-python",
  "name": "python",
  "npconvert_exporter": "python",
  "pygments_lexer": "ipython3",
  "version": 3
 },
 "nbformat": 4,
 "nbformat_minor": 2
}
