{
 "cells": [
  {
   "cell_type": "markdown",
   "metadata": {},
   "source": [
    "# Extract RGB from PAD Columns\n",
    "\n",
    "<font color='red'>Warning!</font> This notebook is a work in progress.\n",
    "\n",
    "This notebook describes the process of extracting RGB colors from a PAD. Please remember to <font color='green'>change the settings</font> in the [User Inputs](#User-Inputs) section.\n",
    "\n",
    "## Contents\n",
    "\n",
    "- [User Inputs](#User-Inputs)\n",
    "- [Imports](#Imports)\n",
    "- [Explanation of Data Structure](#Explanation-of-Data-Structure)\n",
    "- [Common Functions](#Common-Functions)\n",
    "- [Load Images](#Load-Images)\n",
    "- [Manual Box Placement](#Manual-Box-Placement)\n",
    "- [Sample](#Sample)\n",
    "- [Export to CSV](#Export-to-CSV)\n",
    "- [Plot Color Changes Over Time](#Plot-Color-Changes-Over-Time)\n",
    "- [Save Data as CSV](#Save-Data-as-CSV)\n",
    "- [Rectification](#Rectification) <font color='red'>Work in progress!</font>\n",
    "\n",
    "## User Inputs"
   ]
  },
  {
   "cell_type": "markdown",
   "metadata": {},
   "source": [
    "These settings are used to help with the box placement/pixel sampling."
   ]
  },
  {
   "cell_type": "code",
   "execution_count": null,
   "metadata": {},
   "outputs": [],
   "source": [
    "PADDING_USED_ON_SIDES_OF_PLOTS = 15"
   ]
  },
  {
   "cell_type": "markdown",
   "metadata": {},
   "source": [
    "Change these variables. This serves as an example."
   ]
  },
  {
   "cell_type": "code",
   "execution_count": null,
   "metadata": {},
   "outputs": [],
   "source": [
    "USER_INPUT = [\n",
    "    {\n",
    "        \"directory\": \"C:\\\\your\\\\directory\\\\one\",\n",
    "        \"title\": \"Name 1\",\n",
    "        \"box_settings\": {\n",
    "            \"box_width\": 40,\n",
    "            \"box_height\": 300,\n",
    "            \"num_boxes\": 12,\n",
    "            \"offset_top\": 1550,\n",
    "            \"offset_left\": 515,\n",
    "            \"horizontal_spacer\": 113\n",
    "        },\n",
    "        \"lanes_to_sample\": [\n",
    "            \"A\",\n",
    "            \"C\",\n",
    "            \"D\",\n",
    "            \"E\",\n",
    "            \"F\",\n",
    "            \"G\",\n",
    "            \"H\",\n",
    "            \"I\",\n",
    "            \"J\",\n",
    "            \"K\",\n",
    "            \"L\"\n",
    "        ]\n",
    "    },\n",
    "    {\n",
    "        \"directory\": \"C:\\\\your\\\\directory\\\\two\",\n",
    "        \"title\": \"Name 2\",\n",
    "        \"box_settings\": {\n",
    "            \"box_width\": 40,\n",
    "            \"box_height\": 170,\n",
    "            \"num_boxes\": 12,\n",
    "            \"offset_top\": 1730,\n",
    "            \"offset_left\": 590,\n",
    "            \"horizontal_spacer\": 112\n",
    "        },\n",
    "        \"lanes_to_sample\": [\n",
    "            \"A\",\n",
    "            \"B\",\n",
    "            \"C\",\n",
    "            \"D\",\n",
    "            \"E\",\n",
    "            \"F\",\n",
    "            \"G\",\n",
    "            \"H\",\n",
    "            \"I\",\n",
    "            \"J\",\n",
    "            \"K\",\n",
    "            \"L\"\n",
    "        ]\n",
    "    },\n",
    "    {\n",
    "        \"directory\": \"C:\\\\your\\\\directory\\\\three\",\n",
    "        \"title\": \"Name 3\",\n",
    "        \"box_settings\": {\n",
    "            \"box_width\": 40,\n",
    "            \"box_height\": 150,\n",
    "            \"num_boxes\": 12,\n",
    "            \"offset_top\": 1680,\n",
    "            \"offset_left\": 555,\n",
    "            \"horizontal_spacer\": 114\n",
    "        },\n",
    "        \"lanes_to_sample\": [\n",
    "            \"A\",\n",
    "            \"B\",\n",
    "            \"C\",\n",
    "            \"D\",\n",
    "            \"E\",\n",
    "            \"F\",\n",
    "            \"G\",\n",
    "            \"H\",\n",
    "            \"I\",\n",
    "            \"J\",\n",
    "            \"K\",\n",
    "            \"L\"\n",
    "        ]\n",
    "    },\n",
    "    {\n",
    "        \"directory\": \"C:\\\\your\\\\directory\\\\four\",\n",
    "        \"title\": \"Name 4\",\n",
    "        \"box_settings\": {\n",
    "            \"box_width\": 40,\n",
    "            \"box_height\": 150,\n",
    "            \"num_boxes\": 12,\n",
    "            \"offset_top\": 1515,\n",
    "            \"offset_left\": 500,\n",
    "            \"horizontal_spacer\": 113\n",
    "        },\n",
    "        \"lanes_to_sample\": [\n",
    "            \"A\",\n",
    "            \"B\",\n",
    "            \"C\",\n",
    "            \"D\",\n",
    "            \"E\",\n",
    "            \"F\",\n",
    "            \"G\",\n",
    "            \"H\",\n",
    "            \"I\",\n",
    "            \"J\",\n",
    "            \"K\",\n",
    "            \"L\"\n",
    "        ]\n",
    "    },\n",
    "    {\n",
    "        \"directory\": \"C:\\\\your\\\\directory\\\\five\",\n",
    "        \"title\": \"Name 5\",\n",
    "        \"box_settings\": {\n",
    "            \"box_width\": 40,\n",
    "            \"box_height\": 150,\n",
    "            \"num_boxes\": 12,\n",
    "            \"offset_top\": 1600,\n",
    "            \"offset_left\": 610,\n",
    "            \"horizontal_spacer\": 110\n",
    "        },\n",
    "        \"lanes_to_sample\": [\n",
    "            \"A\",\n",
    "            \"B\",\n",
    "            \"C\",\n",
    "            \"D\",\n",
    "            \"E\",\n",
    "            \"F\",\n",
    "            \"G\",\n",
    "            \"H\",\n",
    "            \"I\",\n",
    "            \"J\",\n",
    "            \"K\",\n",
    "            \"L\"\n",
    "        ]\n",
    "    },\n",
    "    {\n",
    "        \"directory\": \"C:\\\\your\\\\other\\\\directory\\\\six\",\n",
    "        \"title\": \"Name 6\",\n",
    "        \"box_settings\": {\n",
    "            \"box_width\": 40,\n",
    "            \"box_height\": 150,\n",
    "            \"num_boxes\": 12,\n",
    "            \"offset_top\": 1420,\n",
    "            \"offset_left\": 560,\n",
    "            \"horizontal_spacer\": 110\n",
    "        },\n",
    "        \"lanes_to_sample\": [\n",
    "            \"A\",\n",
    "            \"B\",\n",
    "            \"C\",\n",
    "            \"D\",\n",
    "            \"E\",\n",
    "            \"F\",\n",
    "            \"G\",\n",
    "            \"H\",\n",
    "            \"I\",\n",
    "            \"J\",\n",
    "            \"K\",\n",
    "            \"L\"\n",
    "        ]\n",
    "    }\n",
    "]"
   ]
  },
  {
   "cell_type": "code",
   "execution_count": null,
   "metadata": {},
   "outputs": [],
   "source": [
    "OUTPUT_DIRECTORY = r\"C:\\\\your\\\\output\\\\directory\""
   ]
  },
  {
   "cell_type": "markdown",
   "metadata": {},
   "source": [
    "## Imports"
   ]
  },
  {
   "cell_type": "code",
   "execution_count": null,
   "metadata": {},
   "outputs": [],
   "source": [
    "import cv2\n",
    "import matplotlib.pyplot as plt\n",
    "import numpy as np\n",
    "import os\n",
    "import pandas as pd\n",
    "import pathlib\n",
    "import sys\n",
    "from datetime import datetime"
   ]
  },
  {
   "cell_type": "code",
   "execution_count": null,
   "metadata": {},
   "outputs": [],
   "source": [
    "try:\n",
    "    import pad\n",
    "except ModuleNotFoundError:\n",
    "    sys.path.insert(1, r\"..\\src\")\n",
    "    import pad"
   ]
  },
  {
   "cell_type": "code",
   "execution_count": null,
   "metadata": {},
   "outputs": [],
   "source": [
    "%matplotlib inline"
   ]
  },
  {
   "cell_type": "code",
   "execution_count": null,
   "metadata": {},
   "outputs": [],
   "source": [
    "plt.rcParams['figure.max_open_warning'] = False"
   ]
  },
  {
   "cell_type": "markdown",
   "metadata": {},
   "source": [
    "## Explanation of Data Structure"
   ]
  },
  {
   "cell_type": "markdown",
   "metadata": {},
   "source": [
    "The user provides a single or several directories containing images. For each directory, a variety of data is read and generated from the image files. For each directory, the data structure looks like this.\n",
    "\n",
    "```\n",
    "{\n",
    "    \"name\": \"This is the string that the user assigns. It can be anything. It's used in plotting.\",\n",
    "    \"path_to_dir\": \"some/path/to/directory\",\n",
    "    \"image_filenames\": [Pathlib object, Pathlib object, Pathlib object],\n",
    "    \"column_data\": Python dictionary,\n",
    "    \"summary_data\": Python dictionary,\n",
    "    \"column_data_frame\": Pandas table,\n",
    "    \"summary_data_frame\": Pandas table    \n",
    "}\n",
    "```\n",
    "\n",
    "I actually went a step beyond that and made it more formal through a class. Might be excessive, but hey, at least we know where everything is now."
   ]
  },
  {
   "cell_type": "markdown",
   "metadata": {},
   "source": [
    "## Load Images"
   ]
  },
  {
   "cell_type": "markdown",
   "metadata": {},
   "source": [
    "Create output directory if it doesn't exist. Setup output filenames."
   ]
  },
  {
   "cell_type": "code",
   "execution_count": null,
   "metadata": {},
   "outputs": [],
   "source": [
    "output_dir = pathlib.Path(OUTPUT_DIRECTORY)\n",
    "if not output_dir.is_dir():\n",
    "    os.mkdir(str(output_dir))\n",
    "    print(\"Created: {}\".format(str(output_dir)))\n",
    "else:\n",
    "    print(\"Already exists: {}\".format(str(output_dir)))"
   ]
  },
  {
   "cell_type": "markdown",
   "metadata": {},
   "source": [
    "Get input filenames and organize them. Note that right now this only reads JPG, but that's pretty easy to change."
   ]
  },
  {
   "cell_type": "code",
   "execution_count": null,
   "metadata": {
    "scrolled": true
   },
   "outputs": [],
   "source": [
    "input_directory_objects = pad.load_multiple_directories(USER_INPUT, verbose=True)"
   ]
  },
  {
   "cell_type": "markdown",
   "metadata": {},
   "source": [
    "## Sample\n",
    "\n",
    "This code samples the directories."
   ]
  },
  {
   "cell_type": "code",
   "execution_count": null,
   "metadata": {
    "scrolled": false
   },
   "outputs": [],
   "source": [
    "for directory_object in input_directory_objects:\n",
    "    directory_object.column_data, directory_object.summary_data = pad.sample_directory_and_create_output_data(\n",
    "        image_filenames=directory_object.image_filenames,\n",
    "        output_directory=OUTPUT_DIRECTORY,\n",
    "        box_settings=directory_object.box_settings,\n",
    "        lanes_to_sample=directory_object.lanes_to_sample,\n",
    "        verbose=False,\n",
    "        draw=False\n",
    "    )"
   ]
  },
  {
   "cell_type": "markdown",
   "metadata": {},
   "source": [
    "## Export to CSV"
   ]
  },
  {
   "cell_type": "code",
   "execution_count": null,
   "metadata": {},
   "outputs": [],
   "source": [
    "for directory_object in input_directory_objects:\n",
    "    directory_object.column_data_frame = pad.create_column_data_frame(directory_object.column_data)\n",
    "    directory_object.summary_data_frame = pad.create_summary_data_frame(directory_object.summary_data)"
   ]
  },
  {
   "cell_type": "markdown",
   "metadata": {},
   "source": [
    "## Plot Color Changes Over Time"
   ]
  },
  {
   "cell_type": "markdown",
   "metadata": {},
   "source": [
    "Just a cute little sample of what we have."
   ]
  },
  {
   "cell_type": "code",
   "execution_count": null,
   "metadata": {
    "scrolled": false
   },
   "outputs": [],
   "source": [
    "input_directory_objects[0].summary_data_frame.head()"
   ]
  },
  {
   "cell_type": "code",
   "execution_count": null,
   "metadata": {},
   "outputs": [],
   "source": [
    "for directory_object in input_directory_objects:\n",
    "    pad.plot_colors_over_time(\n",
    "        directory_object.summary_data_frame,\n",
    "        title=directory_object.name,\n",
    "        save=True,\n",
    "        output_dir=output_dir,\n",
    "        pad_sides=PADDING_USED_ON_SIDES_OF_PLOTS\n",
    "    )\n",
    "    pad.plot_inverted_colors_over_time(\n",
    "        directory_object.summary_data_frame,\n",
    "        title=directory_object.name,\n",
    "        save=True,\n",
    "        output_dir=output_dir,\n",
    "        pad_sides=PADDING_USED_ON_SIDES_OF_PLOTS\n",
    "    )\n",
    "    pad.plot_grayscale_over_time(\n",
    "        directory_object.summary_data_frame,\n",
    "        title=directory_object.name,\n",
    "        save=True,\n",
    "        output_dir=output_dir,\n",
    "        pad_sides=PADDING_USED_ON_SIDES_OF_PLOTS\n",
    "    )\n",
    "    pad.plot_inverted_grayscale_over_time(\n",
    "        directory_object.summary_data_frame,\n",
    "        title=directory_object.name,\n",
    "        save=True,\n",
    "        output_dir=output_dir,\n",
    "        pad_sides=PADDING_USED_ON_SIDES_OF_PLOTS\n",
    "    )"
   ]
  },
  {
   "cell_type": "code",
   "execution_count": null,
   "metadata": {
    "scrolled": true
   },
   "outputs": [],
   "source": [
    "pad.plot_many_inverted_grayscale_intensities_over_time(\n",
    "    [x.summary_data_frame for x in input_directory_objects],\n",
    "    [x.name for x in input_directory_objects],\n",
    "    save=True,\n",
    "    output_dir=output_dir\n",
    ")"
   ]
  },
  {
   "cell_type": "markdown",
   "metadata": {},
   "source": [
    "## Save Data as CSV"
   ]
  },
  {
   "cell_type": "code",
   "execution_count": null,
   "metadata": {},
   "outputs": [],
   "source": [
    "for directory_object in input_directory_objects:\n",
    "    directory_object.save_data_frames_to_csv(output_dir=OUTPUT_DIRECTORY)"
   ]
  },
  {
   "cell_type": "markdown",
   "metadata": {},
   "source": [
    "## Rectification"
   ]
  },
  {
   "cell_type": "code",
   "execution_count": null,
   "metadata": {},
   "outputs": [],
   "source": [
    "# image = cv2.imread(str(image_filenames[0]), 1)\n",
    "# pad.plot_image(image, title=\"Original\")\n",
    "# edges, contours, hierarchy = rectification.find_contours(image, verbose=False)\n",
    "# markers = rectification.select_markers(contours, hierarchy, verbose=True, very_verbose=False)"
   ]
  },
  {
   "cell_type": "code",
   "execution_count": null,
   "metadata": {},
   "outputs": [],
   "source": [
    "# image = cv2.imread(r\"C:\\Users\\ericc\\projects\\padtools\\untracked\\raw.jpg\", 1)\n",
    "# pad.plot_image(image, title=\"Original\")\n",
    "# edges, contours, hierarchy = rectification.find_contours(image, verbose=False)\n",
    "# markers = rectification.select_markers(contours, hierarchy, verbose=True, very_verbose=False)"
   ]
  }
 ],
 "metadata": {
  "kernelspec": {
   "display_name": "Python 3",
   "language": "python",
   "name": "python3"
  },
  "language_info": {
   "codemirror_mode": {
    "name": "ipython",
    "version": 3
   },
   "file_extension": ".py",
   "mimetype": "text/x-python",
   "name": "python",
   "nbconvert_exporter": "python",
   "pygments_lexer": "ipython3",
   "version": "3.7.6"
  }
 },
 "nbformat": 4,
 "nbformat_minor": 2
}
